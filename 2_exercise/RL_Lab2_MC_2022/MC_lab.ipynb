{
 "cells": [
  {
   "cell_type": "markdown",
   "metadata": {},
   "source": [
    "# Reinforcement Learning - Monte Carlo\n",
    "If you want to test/submit your solution **restart the kernel, run all cells and submit the mc_autograde.py file into codegrade.**"
   ]
  },
  {
   "cell_type": "code",
   "execution_count": 1,
   "metadata": {},
   "outputs": [],
   "source": [
    "# This cell imports %%execwritefile command (executes cell and writes it into file).\n",
    "# All cells that start with %%execwritefile should be in mc_autograde.py file after running all cells.\n",
    "from custommagics import CustomMagics\n",
    "\n",
    "get_ipython().register_magics(CustomMagics)"
   ]
  },
  {
   "cell_type": "code",
   "execution_count": 2,
   "metadata": {},
   "outputs": [
    {
     "name": "stdout",
     "output_type": "stream",
     "text": [
      "Overwriting mc_autograde.py\n"
     ]
    }
   ],
   "source": [
    "%%execwritefile mc_autograde.py\n",
    "import numpy as np\n",
    "from collections import defaultdict\n",
    "from tqdm import tqdm as _tqdm\n",
    "\n",
    "\n",
    "def tqdm(*args, **kwargs):\n",
    "    return _tqdm(*args, **kwargs, mininterval=1)  # Safety, do not overflow buffer"
   ]
  },
  {
   "cell_type": "code",
   "execution_count": 3,
   "metadata": {},
   "outputs": [],
   "source": [
    "import matplotlib.pyplot as plt\n",
    "import sys\n",
    "\n",
    "\n",
    "%matplotlib inline\n",
    "\n",
    "assert sys.version_info[:3] >= (3, 6, 0), \"Make sure you have Python 3.6 installed!\""
   ]
  },
  {
   "cell_type": "markdown",
   "metadata": {
    "nbgrader": {
     "grade": false,
     "grade_id": "cell-7ab207a9f93cf4d3",
     "locked": true,
     "schema_version": 1,
     "solution": false
    }
   },
   "source": [
    "## 1. Monte Carlo Prediction"
   ]
  },
  {
   "cell_type": "markdown",
   "metadata": {
    "nbgrader": {
     "grade": false,
     "grade_id": "cell-5f0c1d608436b67b",
     "locked": true,
     "schema_version": 1,
     "solution": false
    }
   },
   "source": [
    "For the Monte Carlo Prediction we will look at the Blackjack game (Example 5.1 from the book), for which the `BlackjackEnv` is implemented in `blackjack.py`. Note that compared to the gridworld, the state is no longer a single integer, which is why we use a dictionary to represent the value function instead of a numpy array. By using `defaultdict`, each state gets a default value of 0."
   ]
  },
  {
   "cell_type": "code",
   "execution_count": 4,
   "metadata": {
    "nbgrader": {
     "grade": false,
     "grade_id": "cell-a342b69fcfdea5b2",
     "locked": true,
     "schema_version": 1,
     "solution": false
    }
   },
   "outputs": [],
   "source": [
    "from blackjack import BlackjackEnv\n",
    "\n",
    "env = BlackjackEnv()"
   ]
  },
  {
   "cell_type": "markdown",
   "metadata": {},
   "source": [
    "For the Monte Carlo algorithm, we no longer have transition probabilities and we need to *interact* with the environment. This means that we start an episode by using `env.reset` and send the environment actions via `env.step` to observe the reward and next observation (state)."
   ]
  },
  {
   "cell_type": "code",
   "execution_count": 5,
   "metadata": {
    "nbgrader": {
     "grade": false,
     "grade_id": "cell-85356add2643980e",
     "locked": true,
     "schema_version": 1,
     "solution": false
    },
    "tags": []
   },
   "outputs": [
    {
     "data": {
      "text/plain": [
       "\u001b[0;31mInit signature:\u001b[0m \u001b[0mgym\u001b[0m\u001b[0;34m.\u001b[0m\u001b[0mEnv\u001b[0m\u001b[0;34m(\u001b[0m\u001b[0;34m)\u001b[0m\u001b[0;34m\u001b[0m\u001b[0;34m\u001b[0m\u001b[0m\n",
       "\u001b[0;31mDocstring:\u001b[0m     \n",
       "The main OpenAI Gym class. It encapsulates an environment with\n",
       "arbitrary behind-the-scenes dynamics. An environment can be\n",
       "partially or fully observed.\n",
       "\n",
       "The main API methods that users of this class need to know are:\n",
       "\n",
       "    step\n",
       "    reset\n",
       "    render\n",
       "    close\n",
       "    seed\n",
       "\n",
       "And set the following attributes:\n",
       "\n",
       "    action_space: The Space object corresponding to valid actions\n",
       "    observation_space: The Space object corresponding to valid observations\n",
       "    reward_range: A tuple corresponding to the min and max possible rewards\n",
       "\n",
       "Note: a default reward range set to [-inf,+inf] already exists. Set it if you want a narrower range.\n",
       "\n",
       "The methods are accessed publicly as \"step\", \"reset\", etc.. The\n",
       "non-underscored versions are wrapper methods to which we may add\n",
       "functionality over time.\n",
       "\u001b[0;31mFile:\u001b[0m           ~/miniconda3/envs/rl/lib/python3.7/site-packages/gym/core.py\n",
       "\u001b[0;31mType:\u001b[0m           type\n",
       "\u001b[0;31mSubclasses:\u001b[0m     GoalEnv, Wrapper, BlackjackEnv\n"
      ]
     },
     "metadata": {},
     "output_type": "display_data"
    }
   ],
   "source": [
    "# So let's have a look at what we can do in general with an environment...\n",
    "import gym\n",
    "\n",
    "?gym.Env"
   ]
  },
  {
   "cell_type": "code",
   "execution_count": 6,
   "metadata": {
    "nbgrader": {
     "grade": false,
     "grade_id": "cell-251b7b17c5d08a24",
     "locked": true,
     "schema_version": 1,
     "solution": false
    },
    "tags": []
   },
   "outputs": [
    {
     "data": {
      "text/plain": [
       "\u001b[0;31mSignature:\u001b[0m \u001b[0menv\u001b[0m\u001b[0;34m.\u001b[0m\u001b[0mstep\u001b[0m\u001b[0;34m(\u001b[0m\u001b[0maction\u001b[0m\u001b[0;34m)\u001b[0m\u001b[0;34m\u001b[0m\u001b[0;34m\u001b[0m\u001b[0m\n",
       "\u001b[0;31mDocstring:\u001b[0m\n",
       "Run one timestep of the environment's dynamics. When end of\n",
       "episode is reached, you are responsible for calling `reset()`\n",
       "to reset this environment's state.\n",
       "\n",
       "Accepts an action and returns a tuple (observation, reward, done, info).\n",
       "\n",
       "Args:\n",
       "    action (object): an action provided by the environment\n",
       "\n",
       "Returns:\n",
       "    observation (object): agent's observation of the current environment\n",
       "    reward (float) : amount of reward returned after previous action\n",
       "    done (boolean): whether the episode has ended, in which case further step() calls will return undefined results\n",
       "    info (dict): contains auxiliary diagnostic information (helpful for debugging, and sometimes learning)\n",
       "\u001b[0;31mFile:\u001b[0m      ~/OneDrive - UvA/masters/rl/exercises/2_exercise/RL_Lab2_MC_2022/blackjack.py\n",
       "\u001b[0;31mType:\u001b[0m      method\n"
      ]
     },
     "metadata": {},
     "output_type": "display_data"
    }
   ],
   "source": [
    "# We can also look at the documentation/implementation of a method\n",
    "?env.step"
   ]
  },
  {
   "cell_type": "code",
   "execution_count": 7,
   "metadata": {
    "nbgrader": {
     "grade": false,
     "grade_id": "cell-6decb2ab83c5bcec",
     "locked": true,
     "schema_version": 1,
     "solution": false
    },
    "tags": []
   },
   "outputs": [
    {
     "data": {
      "text/plain": [
       "\u001b[0;31mInit signature:\u001b[0m \u001b[0mBlackjackEnv\u001b[0m\u001b[0;34m(\u001b[0m\u001b[0mnatural\u001b[0m\u001b[0;34m=\u001b[0m\u001b[0;32mFalse\u001b[0m\u001b[0;34m)\u001b[0m\u001b[0;34m\u001b[0m\u001b[0;34m\u001b[0m\u001b[0m\n",
       "\u001b[0;31mSource:\u001b[0m        \n",
       "\u001b[0;32mclass\u001b[0m \u001b[0mBlackjackEnv\u001b[0m\u001b[0;34m(\u001b[0m\u001b[0mgym\u001b[0m\u001b[0;34m.\u001b[0m\u001b[0mEnv\u001b[0m\u001b[0;34m)\u001b[0m\u001b[0;34m:\u001b[0m\u001b[0;34m\u001b[0m\n",
       "\u001b[0;34m\u001b[0m    \u001b[0;34m\"\"\"Simple blackjack environment\u001b[0m\n",
       "\u001b[0;34m    Blackjack is a card game where the goal is to obtain cards that sum to as\u001b[0m\n",
       "\u001b[0;34m    near as possible to 21 without going over.  They're playing against a fixed\u001b[0m\n",
       "\u001b[0;34m    dealer.\u001b[0m\n",
       "\u001b[0;34m    Face cards (Jack, Queen, King) have point value 10.\u001b[0m\n",
       "\u001b[0;34m    Aces can either count as 11 or 1, and it's called 'usable' at 11.\u001b[0m\n",
       "\u001b[0;34m    This game is placed with an infinite deck (or with replacement).\u001b[0m\n",
       "\u001b[0;34m    The game starts with each (player and dealer) having one face up and one\u001b[0m\n",
       "\u001b[0;34m    face down card.\u001b[0m\n",
       "\u001b[0;34m    The player can request additional cards (hit=1) until they decide to stop\u001b[0m\n",
       "\u001b[0;34m    (stick=0) or exceed 21 (bust).\u001b[0m\n",
       "\u001b[0;34m    After the player sticks, the dealer reveals their facedown card, and draws\u001b[0m\n",
       "\u001b[0;34m    until their sum is 17 or greater.  If the dealer goes bust the player wins.\u001b[0m\n",
       "\u001b[0;34m    If neither player nor dealer busts, the outcome (win, lose, draw) is\u001b[0m\n",
       "\u001b[0;34m    decided by whose sum is closer to 21.  The reward for winning is +1,\u001b[0m\n",
       "\u001b[0;34m    drawing is 0, and losing is -1.\u001b[0m\n",
       "\u001b[0;34m    The observation of a 3-tuple of: the players current sum,\u001b[0m\n",
       "\u001b[0;34m    the dealer's one showing card (1-10 where 1 is ace),\u001b[0m\n",
       "\u001b[0;34m    and whether or not the player holds a usable ace (0 or 1).\u001b[0m\n",
       "\u001b[0;34m    This environment corresponds to the version of the blackjack problem\u001b[0m\n",
       "\u001b[0;34m    described in Example 5.1 in Reinforcement Learning: An Introduction\u001b[0m\n",
       "\u001b[0;34m    by Sutton and Barto (1998).\u001b[0m\n",
       "\u001b[0;34m    https://webdocs.cs.ualberta.ca/~sutton/book/the-book.html\u001b[0m\n",
       "\u001b[0;34m    \"\"\"\u001b[0m\u001b[0;34m\u001b[0m\n",
       "\u001b[0;34m\u001b[0m    \u001b[0;32mdef\u001b[0m \u001b[0m__init__\u001b[0m\u001b[0;34m(\u001b[0m\u001b[0mself\u001b[0m\u001b[0;34m,\u001b[0m \u001b[0mnatural\u001b[0m\u001b[0;34m=\u001b[0m\u001b[0;32mFalse\u001b[0m\u001b[0;34m)\u001b[0m\u001b[0;34m:\u001b[0m\u001b[0;34m\u001b[0m\n",
       "\u001b[0;34m\u001b[0m        \u001b[0mself\u001b[0m\u001b[0;34m.\u001b[0m\u001b[0maction_space\u001b[0m \u001b[0;34m=\u001b[0m \u001b[0mspaces\u001b[0m\u001b[0;34m.\u001b[0m\u001b[0mDiscrete\u001b[0m\u001b[0;34m(\u001b[0m\u001b[0;36m2\u001b[0m\u001b[0;34m)\u001b[0m\u001b[0;34m\u001b[0m\n",
       "\u001b[0;34m\u001b[0m        \u001b[0mself\u001b[0m\u001b[0;34m.\u001b[0m\u001b[0mobservation_space\u001b[0m \u001b[0;34m=\u001b[0m \u001b[0mspaces\u001b[0m\u001b[0;34m.\u001b[0m\u001b[0mTuple\u001b[0m\u001b[0;34m(\u001b[0m\u001b[0;34m(\u001b[0m\u001b[0;34m\u001b[0m\n",
       "\u001b[0;34m\u001b[0m            \u001b[0mspaces\u001b[0m\u001b[0;34m.\u001b[0m\u001b[0mDiscrete\u001b[0m\u001b[0;34m(\u001b[0m\u001b[0;36m32\u001b[0m\u001b[0;34m)\u001b[0m\u001b[0;34m,\u001b[0m\u001b[0;34m\u001b[0m\n",
       "\u001b[0;34m\u001b[0m            \u001b[0mspaces\u001b[0m\u001b[0;34m.\u001b[0m\u001b[0mDiscrete\u001b[0m\u001b[0;34m(\u001b[0m\u001b[0;36m11\u001b[0m\u001b[0;34m)\u001b[0m\u001b[0;34m,\u001b[0m\u001b[0;34m\u001b[0m\n",
       "\u001b[0;34m\u001b[0m            \u001b[0mspaces\u001b[0m\u001b[0;34m.\u001b[0m\u001b[0mDiscrete\u001b[0m\u001b[0;34m(\u001b[0m\u001b[0;36m2\u001b[0m\u001b[0;34m)\u001b[0m\u001b[0;34m)\u001b[0m\u001b[0;34m)\u001b[0m\u001b[0;34m\u001b[0m\n",
       "\u001b[0;34m\u001b[0m        \u001b[0mself\u001b[0m\u001b[0;34m.\u001b[0m\u001b[0m_seed\u001b[0m\u001b[0;34m(\u001b[0m\u001b[0;34m)\u001b[0m\u001b[0;34m\u001b[0m\n",
       "\u001b[0;34m\u001b[0m\u001b[0;34m\u001b[0m\n",
       "\u001b[0;34m\u001b[0m        \u001b[0;31m# Flag to payout 1.5 on a \"natural\" blackjack win, like casino rules\u001b[0m\u001b[0;34m\u001b[0m\n",
       "\u001b[0;34m\u001b[0m        \u001b[0;31m# Ref: http://www.bicyclecards.com/how-to-play/blackjack/\u001b[0m\u001b[0;34m\u001b[0m\n",
       "\u001b[0;34m\u001b[0m        \u001b[0mself\u001b[0m\u001b[0;34m.\u001b[0m\u001b[0mnatural\u001b[0m \u001b[0;34m=\u001b[0m \u001b[0mnatural\u001b[0m\u001b[0;34m\u001b[0m\n",
       "\u001b[0;34m\u001b[0m        \u001b[0;31m# Start the first game\u001b[0m\u001b[0;34m\u001b[0m\n",
       "\u001b[0;34m\u001b[0m        \u001b[0mself\u001b[0m\u001b[0;34m.\u001b[0m\u001b[0m_reset\u001b[0m\u001b[0;34m(\u001b[0m\u001b[0;34m)\u001b[0m        \u001b[0;31m# Number of \u001b[0m\u001b[0;34m\u001b[0m\n",
       "\u001b[0;34m\u001b[0m        \u001b[0mself\u001b[0m\u001b[0;34m.\u001b[0m\u001b[0mnA\u001b[0m \u001b[0;34m=\u001b[0m \u001b[0;36m2\u001b[0m\u001b[0;34m\u001b[0m\n",
       "\u001b[0;34m\u001b[0m\u001b[0;34m\u001b[0m\n",
       "\u001b[0;34m\u001b[0m    \u001b[0;32mdef\u001b[0m \u001b[0mreset\u001b[0m\u001b[0;34m(\u001b[0m\u001b[0mself\u001b[0m\u001b[0;34m)\u001b[0m\u001b[0;34m:\u001b[0m\u001b[0;34m\u001b[0m\n",
       "\u001b[0;34m\u001b[0m        \u001b[0;32mreturn\u001b[0m \u001b[0mself\u001b[0m\u001b[0;34m.\u001b[0m\u001b[0m_reset\u001b[0m\u001b[0;34m(\u001b[0m\u001b[0;34m)\u001b[0m\u001b[0;34m\u001b[0m\n",
       "\u001b[0;34m\u001b[0m\u001b[0;34m\u001b[0m\n",
       "\u001b[0;34m\u001b[0m    \u001b[0;32mdef\u001b[0m \u001b[0mstep\u001b[0m\u001b[0;34m(\u001b[0m\u001b[0mself\u001b[0m\u001b[0;34m,\u001b[0m \u001b[0maction\u001b[0m\u001b[0;34m)\u001b[0m\u001b[0;34m:\u001b[0m\u001b[0;34m\u001b[0m\n",
       "\u001b[0;34m\u001b[0m        \u001b[0;32mreturn\u001b[0m \u001b[0mself\u001b[0m\u001b[0;34m.\u001b[0m\u001b[0m_step\u001b[0m\u001b[0;34m(\u001b[0m\u001b[0maction\u001b[0m\u001b[0;34m)\u001b[0m\u001b[0;34m\u001b[0m\n",
       "\u001b[0;34m\u001b[0m\u001b[0;34m\u001b[0m\n",
       "\u001b[0;34m\u001b[0m    \u001b[0;32mdef\u001b[0m \u001b[0m_seed\u001b[0m\u001b[0;34m(\u001b[0m\u001b[0mself\u001b[0m\u001b[0;34m,\u001b[0m \u001b[0mseed\u001b[0m\u001b[0;34m=\u001b[0m\u001b[0;32mNone\u001b[0m\u001b[0;34m)\u001b[0m\u001b[0;34m:\u001b[0m\u001b[0;34m\u001b[0m\n",
       "\u001b[0;34m\u001b[0m        \u001b[0mself\u001b[0m\u001b[0;34m.\u001b[0m\u001b[0mnp_random\u001b[0m\u001b[0;34m,\u001b[0m \u001b[0mseed\u001b[0m \u001b[0;34m=\u001b[0m \u001b[0mseeding\u001b[0m\u001b[0;34m.\u001b[0m\u001b[0mnp_random\u001b[0m\u001b[0;34m(\u001b[0m\u001b[0mseed\u001b[0m\u001b[0;34m)\u001b[0m\u001b[0;34m\u001b[0m\n",
       "\u001b[0;34m\u001b[0m        \u001b[0;32mreturn\u001b[0m \u001b[0;34m[\u001b[0m\u001b[0mseed\u001b[0m\u001b[0;34m]\u001b[0m\u001b[0;34m\u001b[0m\n",
       "\u001b[0;34m\u001b[0m\u001b[0;34m\u001b[0m\n",
       "\u001b[0;34m\u001b[0m    \u001b[0;32mdef\u001b[0m \u001b[0m_step\u001b[0m\u001b[0;34m(\u001b[0m\u001b[0mself\u001b[0m\u001b[0;34m,\u001b[0m \u001b[0maction\u001b[0m\u001b[0;34m)\u001b[0m\u001b[0;34m:\u001b[0m\u001b[0;34m\u001b[0m\n",
       "\u001b[0;34m\u001b[0m        \u001b[0;32massert\u001b[0m \u001b[0mself\u001b[0m\u001b[0;34m.\u001b[0m\u001b[0maction_space\u001b[0m\u001b[0;34m.\u001b[0m\u001b[0mcontains\u001b[0m\u001b[0;34m(\u001b[0m\u001b[0maction\u001b[0m\u001b[0;34m)\u001b[0m\u001b[0;34m\u001b[0m\n",
       "\u001b[0;34m\u001b[0m        \u001b[0;32mif\u001b[0m \u001b[0maction\u001b[0m\u001b[0;34m:\u001b[0m  \u001b[0;31m# hit: add a card to players hand and return\u001b[0m\u001b[0;34m\u001b[0m\n",
       "\u001b[0;34m\u001b[0m            \u001b[0mself\u001b[0m\u001b[0;34m.\u001b[0m\u001b[0mplayer\u001b[0m\u001b[0;34m.\u001b[0m\u001b[0mappend\u001b[0m\u001b[0;34m(\u001b[0m\u001b[0mdraw_card\u001b[0m\u001b[0;34m(\u001b[0m\u001b[0mself\u001b[0m\u001b[0;34m.\u001b[0m\u001b[0mnp_random\u001b[0m\u001b[0;34m)\u001b[0m\u001b[0;34m)\u001b[0m\u001b[0;34m\u001b[0m\n",
       "\u001b[0;34m\u001b[0m            \u001b[0;32mif\u001b[0m \u001b[0mis_bust\u001b[0m\u001b[0;34m(\u001b[0m\u001b[0mself\u001b[0m\u001b[0;34m.\u001b[0m\u001b[0mplayer\u001b[0m\u001b[0;34m)\u001b[0m\u001b[0;34m:\u001b[0m\u001b[0;34m\u001b[0m\n",
       "\u001b[0;34m\u001b[0m                \u001b[0mdone\u001b[0m \u001b[0;34m=\u001b[0m \u001b[0;32mTrue\u001b[0m\u001b[0;34m\u001b[0m\n",
       "\u001b[0;34m\u001b[0m                \u001b[0mreward\u001b[0m \u001b[0;34m=\u001b[0m \u001b[0;34m-\u001b[0m\u001b[0;36m1\u001b[0m\u001b[0;34m\u001b[0m\n",
       "\u001b[0;34m\u001b[0m            \u001b[0;32melse\u001b[0m\u001b[0;34m:\u001b[0m\u001b[0;34m\u001b[0m\n",
       "\u001b[0;34m\u001b[0m                \u001b[0mdone\u001b[0m \u001b[0;34m=\u001b[0m \u001b[0;32mFalse\u001b[0m\u001b[0;34m\u001b[0m\n",
       "\u001b[0;34m\u001b[0m                \u001b[0mreward\u001b[0m \u001b[0;34m=\u001b[0m \u001b[0;36m0\u001b[0m\u001b[0;34m\u001b[0m\n",
       "\u001b[0;34m\u001b[0m        \u001b[0;32melse\u001b[0m\u001b[0;34m:\u001b[0m  \u001b[0;31m# stick: play out the dealers hand, and score\u001b[0m\u001b[0;34m\u001b[0m\n",
       "\u001b[0;34m\u001b[0m            \u001b[0mdone\u001b[0m \u001b[0;34m=\u001b[0m \u001b[0;32mTrue\u001b[0m\u001b[0;34m\u001b[0m\n",
       "\u001b[0;34m\u001b[0m            \u001b[0;32mwhile\u001b[0m \u001b[0msum_hand\u001b[0m\u001b[0;34m(\u001b[0m\u001b[0mself\u001b[0m\u001b[0;34m.\u001b[0m\u001b[0mdealer\u001b[0m\u001b[0;34m)\u001b[0m \u001b[0;34m<\u001b[0m \u001b[0;36m17\u001b[0m\u001b[0;34m:\u001b[0m\u001b[0;34m\u001b[0m\n",
       "\u001b[0;34m\u001b[0m                \u001b[0mself\u001b[0m\u001b[0;34m.\u001b[0m\u001b[0mdealer\u001b[0m\u001b[0;34m.\u001b[0m\u001b[0mappend\u001b[0m\u001b[0;34m(\u001b[0m\u001b[0mdraw_card\u001b[0m\u001b[0;34m(\u001b[0m\u001b[0mself\u001b[0m\u001b[0;34m.\u001b[0m\u001b[0mnp_random\u001b[0m\u001b[0;34m)\u001b[0m\u001b[0;34m)\u001b[0m\u001b[0;34m\u001b[0m\n",
       "\u001b[0;34m\u001b[0m            \u001b[0mreward\u001b[0m \u001b[0;34m=\u001b[0m \u001b[0mcmp\u001b[0m\u001b[0;34m(\u001b[0m\u001b[0mscore\u001b[0m\u001b[0;34m(\u001b[0m\u001b[0mself\u001b[0m\u001b[0;34m.\u001b[0m\u001b[0mplayer\u001b[0m\u001b[0;34m)\u001b[0m\u001b[0;34m,\u001b[0m \u001b[0mscore\u001b[0m\u001b[0;34m(\u001b[0m\u001b[0mself\u001b[0m\u001b[0;34m.\u001b[0m\u001b[0mdealer\u001b[0m\u001b[0;34m)\u001b[0m\u001b[0;34m)\u001b[0m\u001b[0;34m\u001b[0m\n",
       "\u001b[0;34m\u001b[0m            \u001b[0;32mif\u001b[0m \u001b[0mself\u001b[0m\u001b[0;34m.\u001b[0m\u001b[0mnatural\u001b[0m \u001b[0;32mand\u001b[0m \u001b[0mis_natural\u001b[0m\u001b[0;34m(\u001b[0m\u001b[0mself\u001b[0m\u001b[0;34m.\u001b[0m\u001b[0mplayer\u001b[0m\u001b[0;34m)\u001b[0m \u001b[0;32mand\u001b[0m \u001b[0mreward\u001b[0m \u001b[0;34m==\u001b[0m \u001b[0;36m1\u001b[0m\u001b[0;34m:\u001b[0m\u001b[0;34m\u001b[0m\n",
       "\u001b[0;34m\u001b[0m                \u001b[0mreward\u001b[0m \u001b[0;34m=\u001b[0m \u001b[0;36m1.5\u001b[0m\u001b[0;34m\u001b[0m\n",
       "\u001b[0;34m\u001b[0m        \u001b[0;32mreturn\u001b[0m \u001b[0mself\u001b[0m\u001b[0;34m.\u001b[0m\u001b[0m_get_obs\u001b[0m\u001b[0;34m(\u001b[0m\u001b[0;34m)\u001b[0m\u001b[0;34m,\u001b[0m \u001b[0mreward\u001b[0m\u001b[0;34m,\u001b[0m \u001b[0mdone\u001b[0m\u001b[0;34m,\u001b[0m \u001b[0;34m{\u001b[0m\u001b[0;34m}\u001b[0m\u001b[0;34m\u001b[0m\n",
       "\u001b[0;34m\u001b[0m\u001b[0;34m\u001b[0m\n",
       "\u001b[0;34m\u001b[0m    \u001b[0;32mdef\u001b[0m \u001b[0m_get_obs\u001b[0m\u001b[0;34m(\u001b[0m\u001b[0mself\u001b[0m\u001b[0;34m)\u001b[0m\u001b[0;34m:\u001b[0m\u001b[0;34m\u001b[0m\n",
       "\u001b[0;34m\u001b[0m        \u001b[0;32mreturn\u001b[0m \u001b[0;34m(\u001b[0m\u001b[0msum_hand\u001b[0m\u001b[0;34m(\u001b[0m\u001b[0mself\u001b[0m\u001b[0;34m.\u001b[0m\u001b[0mplayer\u001b[0m\u001b[0;34m)\u001b[0m\u001b[0;34m,\u001b[0m \u001b[0mself\u001b[0m\u001b[0;34m.\u001b[0m\u001b[0mdealer\u001b[0m\u001b[0;34m[\u001b[0m\u001b[0;36m0\u001b[0m\u001b[0;34m]\u001b[0m\u001b[0;34m,\u001b[0m \u001b[0musable_ace\u001b[0m\u001b[0;34m(\u001b[0m\u001b[0mself\u001b[0m\u001b[0;34m.\u001b[0m\u001b[0mplayer\u001b[0m\u001b[0;34m)\u001b[0m\u001b[0;34m)\u001b[0m\u001b[0;34m\u001b[0m\n",
       "\u001b[0;34m\u001b[0m\u001b[0;34m\u001b[0m\n",
       "\u001b[0;34m\u001b[0m    \u001b[0;32mdef\u001b[0m \u001b[0m_reset\u001b[0m\u001b[0;34m(\u001b[0m\u001b[0mself\u001b[0m\u001b[0;34m)\u001b[0m\u001b[0;34m:\u001b[0m\u001b[0;34m\u001b[0m\n",
       "\u001b[0;34m\u001b[0m        \u001b[0mself\u001b[0m\u001b[0;34m.\u001b[0m\u001b[0mdealer\u001b[0m \u001b[0;34m=\u001b[0m \u001b[0mdraw_hand\u001b[0m\u001b[0;34m(\u001b[0m\u001b[0mself\u001b[0m\u001b[0;34m.\u001b[0m\u001b[0mnp_random\u001b[0m\u001b[0;34m)\u001b[0m\u001b[0;34m\u001b[0m\n",
       "\u001b[0;34m\u001b[0m        \u001b[0mself\u001b[0m\u001b[0;34m.\u001b[0m\u001b[0mplayer\u001b[0m \u001b[0;34m=\u001b[0m \u001b[0mdraw_hand\u001b[0m\u001b[0;34m(\u001b[0m\u001b[0mself\u001b[0m\u001b[0;34m.\u001b[0m\u001b[0mnp_random\u001b[0m\u001b[0;34m)\u001b[0m\u001b[0;34m\u001b[0m\n",
       "\u001b[0;34m\u001b[0m\u001b[0;34m\u001b[0m\n",
       "\u001b[0;34m\u001b[0m        \u001b[0;31m# Auto-draw another card if the score is less than 12\u001b[0m\u001b[0;34m\u001b[0m\n",
       "\u001b[0;34m\u001b[0m        \u001b[0;32mwhile\u001b[0m \u001b[0msum_hand\u001b[0m\u001b[0;34m(\u001b[0m\u001b[0mself\u001b[0m\u001b[0;34m.\u001b[0m\u001b[0mplayer\u001b[0m\u001b[0;34m)\u001b[0m \u001b[0;34m<\u001b[0m \u001b[0;36m12\u001b[0m\u001b[0;34m:\u001b[0m\u001b[0;34m\u001b[0m\n",
       "\u001b[0;34m\u001b[0m            \u001b[0mself\u001b[0m\u001b[0;34m.\u001b[0m\u001b[0mplayer\u001b[0m\u001b[0;34m.\u001b[0m\u001b[0mappend\u001b[0m\u001b[0;34m(\u001b[0m\u001b[0mdraw_card\u001b[0m\u001b[0;34m(\u001b[0m\u001b[0mself\u001b[0m\u001b[0;34m.\u001b[0m\u001b[0mnp_random\u001b[0m\u001b[0;34m)\u001b[0m\u001b[0;34m)\u001b[0m\u001b[0;34m\u001b[0m\n",
       "\u001b[0;34m\u001b[0m\u001b[0;34m\u001b[0m\n",
       "\u001b[0;34m\u001b[0m        \u001b[0;32mreturn\u001b[0m \u001b[0mself\u001b[0m\u001b[0;34m.\u001b[0m\u001b[0m_get_obs\u001b[0m\u001b[0;34m(\u001b[0m\u001b[0;34m)\u001b[0m\u001b[0;34m\u001b[0m\u001b[0;34m\u001b[0m\u001b[0m\n",
       "\u001b[0;31mFile:\u001b[0m           ~/OneDrive - UvA/masters/rl/exercises/2_exercise/RL_Lab2_MC_2022/blackjack.py\n",
       "\u001b[0;31mType:\u001b[0m           type\n",
       "\u001b[0;31mSubclasses:\u001b[0m     \n"
      ]
     },
     "metadata": {},
     "output_type": "display_data"
    }
   ],
   "source": [
    "??BlackjackEnv"
   ]
  },
  {
   "cell_type": "code",
   "execution_count": 8,
   "metadata": {},
   "outputs": [
    {
     "data": {
      "text/plain": [
       "(13, 9, True)"
      ]
     },
     "execution_count": 8,
     "metadata": {},
     "output_type": "execute_result"
    }
   ],
   "source": [
    "env.reset()"
   ]
  },
  {
   "cell_type": "markdown",
   "metadata": {
    "nbgrader": {
     "grade": false,
     "grade_id": "cell-ae161126d3cb1b7b",
     "locked": true,
     "schema_version": 1,
     "solution": false
    }
   },
   "source": [
    "A very simple policy for Blackjack is to *stick* if we have 20 or 21 points and *hit* otherwise. We want to know how good this policy is. This policy is *deterministic* and therefore a function that maps an observation to a single action. Technically, we can implement this as a dictionary , a function or a class with a function, where we use the last option. Moreover, it is often useful (as you will see later) to implement a function that returns  the probability $\\pi(a|s)$ for the state action pair (the probability that this policy would perform certain action in given state). We group these two functions in a policy class. To get started, let's implement this simple policy for BlackJack."
   ]
  },
  {
   "cell_type": "code",
   "execution_count": 9,
   "metadata": {
    "nbgrader": {
     "grade": false,
     "grade_id": "cell-9fdcb503df9cdb08",
     "locked": false,
     "schema_version": 1,
     "solution": true
    }
   },
   "outputs": [
    {
     "name": "stdout",
     "output_type": "stream",
     "text": [
      "Appending to mc_autograde.py\n"
     ]
    }
   ],
   "source": [
    "%%execwritefile -a mc_autograde.py\n",
    "\n",
    "\n",
    "class SimpleBlackjackPolicy(object):\n",
    "    \"\"\"\n",
    "    A simple BlackJack policy that sticks with 20 or 21 points and hits otherwise.\n",
    "    \"\"\"\n",
    "\n",
    "    def get_probs(self, states, actions):\n",
    "        \"\"\"\n",
    "        This method takes a list of states and a\n",
    "        list of actions and returns a numpy array\n",
    "        that contains a probability of perfoming\n",
    "        action in given state for every corresponding\n",
    "        state action pair.\n",
    "\n",
    "        Args:\n",
    "            states: a list of states.\n",
    "            actions: a list of actions.\n",
    "\n",
    "        Returns:\n",
    "            Numpy array filled with probabilities (same length as states and actions)\n",
    "        \"\"\"\n",
    "        # YOUR CODE HERE\n",
    "        probs = []\n",
    "        for state, action in zip(states, actions):\n",
    "            player_sum, dealer_card, usable = state\n",
    "            # we always stick (action 0) when our sum is 20 or 21\n",
    "            if player_sum in (20, 21):\n",
    "                if action == 1:\n",
    "                    prob = 0\n",
    "                else:\n",
    "                    prob = 1\n",
    "            # we always hit (action 1) otherwise\n",
    "            else:\n",
    "                if action == 1:\n",
    "                    prob = 1\n",
    "                else:\n",
    "                    prob = 0\n",
    "            probs.append(prob)\n",
    "        return np.array(probs)\n",
    "\n",
    "    def sample_action(self, state):\n",
    "        \"\"\"\n",
    "        This method takes a state as input and returns an action sampled from this policy.\n",
    "\n",
    "        Args:\n",
    "            state: current state\n",
    "\n",
    "        Returns:\n",
    "            An action (int).\n",
    "        \"\"\"\n",
    "        # YOUR CODE HERE\n",
    "        player_sum, dealer_card, usable = state\n",
    "        if player_sum < 20:\n",
    "            action = 1\n",
    "        else:\n",
    "            action = 0\n",
    "        return action"
   ]
  },
  {
   "cell_type": "code",
   "execution_count": 10,
   "metadata": {
    "nbgrader": {
     "grade": true,
     "grade_id": "cell-99f02e2d9b338a5b",
     "locked": true,
     "points": 1,
     "schema_version": 1,
     "solution": false
    }
   },
   "outputs": [
    {
     "name": "stdout",
     "output_type": "stream",
     "text": [
      "State: (21, 9, True)\n",
      "Sampled Action: 0\n",
      "Probabilities [stick, hit]: [1 0]\n"
     ]
    }
   ],
   "source": [
    "# Let's check if it makes sense\n",
    "env = BlackjackEnv()\n",
    "s = env.reset()\n",
    "policy = SimpleBlackjackPolicy()\n",
    "print(\n",
    "    \"State: {}\\nSampled Action: {}\\nProbabilities [stick, hit]: {}\".format(\n",
    "        s, policy.sample_action(s), policy.get_probs([s, s], [0, 1])\n",
    "    )\n",
    ")"
   ]
  },
  {
   "cell_type": "markdown",
   "metadata": {},
   "source": [
    "Since there are multiple algorithms which require data from single episode (or multiple episodes) it is often useful to write a routine that will sample a single episode. This will save us some time later. Implement a *sample_episode* function which uses environment and policy to sample a single episode."
   ]
  },
  {
   "cell_type": "code",
   "execution_count": 11,
   "metadata": {},
   "outputs": [
    {
     "name": "stdout",
     "output_type": "stream",
     "text": [
      "Appending to mc_autograde.py\n"
     ]
    }
   ],
   "source": [
    "%%execwritefile -a mc_autograde.py\n",
    "\n",
    "\n",
    "def sample_episode(env, policy):\n",
    "    \"\"\"\n",
    "    A sampling routine. Given environment and a policy samples one episode and returns states, actions, rewards\n",
    "    and dones from environment's step function and policy's sample_action function as lists.\n",
    "\n",
    "    Args:\n",
    "        env: OpenAI gym environment.\n",
    "        policy: A policy which allows us to sample actions with its sample_action method.\n",
    "\n",
    "    Returns:\n",
    "        Tuple of lists (states, actions, rewards, dones). All lists should have same length.\n",
    "        Hint: Do not include the state after the termination in the list of states.\n",
    "    \"\"\"\n",
    "    states = []\n",
    "    actions = []\n",
    "    rewards = []\n",
    "    dones = []\n",
    "\n",
    "    # YOUR CODE HERE\n",
    "    s = env.reset()\n",
    "    while True:\n",
    "        states.append(s)\n",
    "        a = policy.sample_action(s)\n",
    "        s, r, done, info = env.step(a)\n",
    "        actions.append(a)\n",
    "        rewards.append(r)\n",
    "        dones.append(done)\n",
    "        if done:\n",
    "            break\n",
    "    # One row will be: S_t, A_t, R_{t+1}, D_{t+1}\n",
    "    return states, actions, rewards, dones"
   ]
  },
  {
   "cell_type": "code",
   "execution_count": 12,
   "metadata": {},
   "outputs": [
    {
     "name": "stdout",
     "output_type": "stream",
     "text": [
      "Episode 0:\n",
      "States [(14, 8, False), (18, 8, False), (20, 8, False)]\n",
      "Actions [1, 1, 0]\n",
      "Rewards [0, 0, 1]\n",
      "Dones [False, False, True]\n",
      "\n",
      "Episode 1:\n",
      "States [(16, 4, False), (19, 4, False)]\n",
      "Actions [1, 1]\n",
      "Rewards [0, -1]\n",
      "Dones [False, True]\n",
      "\n",
      "Episode 2:\n",
      "States [(16, 7, False), (21, 7, False)]\n",
      "Actions [1, 0]\n",
      "Rewards [0, 1]\n",
      "Dones [False, True]\n",
      "\n"
     ]
    }
   ],
   "source": [
    "# Let's sample some episodes\n",
    "env = BlackjackEnv()\n",
    "policy = SimpleBlackjackPolicy()\n",
    "for episode in range(3):\n",
    "    trajectory_data = sample_episode(env, policy)\n",
    "    print(\n",
    "        \"Episode {}:\\nStates {}\\nActions {}\\nRewards {}\\nDones {}\\n\".format(\n",
    "            episode, *trajectory_data\n",
    "        )\n",
    "    )"
   ]
  },
  {
   "cell_type": "markdown",
   "metadata": {
    "nbgrader": {
     "grade": false,
     "grade_id": "cell-0184f4c719afb98c",
     "locked": true,
     "schema_version": 1,
     "solution": false
    }
   },
   "source": [
    "Now implement the MC prediction algorithm (either first visit or every visit). Hint: you can use `for i in tqdm(range(num_episodes))` to show a progress bar. Use the sampling function from above to sample data from a single episode."
   ]
  },
  {
   "cell_type": "code",
   "execution_count": 13,
   "metadata": {},
   "outputs": [
    {
     "name": "stdout",
     "output_type": "stream",
     "text": [
      "Appending to mc_autograde.py\n"
     ]
    }
   ],
   "source": [
    "%%execwritefile -a mc_autograde.py\n",
    "\n",
    "\n",
    "def mc_prediction(\n",
    "    env, policy, num_episodes, discount_factor=1.0, sampling_function=sample_episode\n",
    "):\n",
    "    \"\"\"\n",
    "    Monte Carlo prediction algorithm. Calculates the value function\n",
    "    for a given policy using sampling.\n",
    "\n",
    "    Args:\n",
    "        env: OpenAI gym environment.\n",
    "        policy: A policy which allows us to sample actions with its sample_action method.\n",
    "        num_episodes: Number of episodes to sample.\n",
    "        discount_factor: Gamma discount factor.\n",
    "        sampling_function: Function that generates data from one episode.\n",
    "\n",
    "    Returns:\n",
    "        A dictionary that maps from state -> value.\n",
    "        The state is a tuple and the value is a float.\n",
    "    \"\"\"\n",
    "\n",
    "    # Keeps track of current V and count of returns for each state\n",
    "    # to calculate an update.\n",
    "    V = defaultdict(float)\n",
    "    returns_count = defaultdict(float)\n",
    "\n",
    "    # YOUR CODE HERE\n",
    "    for i in tqdm(range(num_episodes)):\n",
    "        states, _actions, rewards, _dones = sampling_function(env, policy)\n",
    "        G = 0\n",
    "        for s, r in zip(states[::-1], rewards[::-1]):\n",
    "            G = discount_factor * G + r\n",
    "            returns_count[s] += 1\n",
    "            V[s] = V[s] + (G - V[s]) / returns_count[s]  # incremental averaging\n",
    "    return V"
   ]
  },
  {
   "cell_type": "code",
   "execution_count": 14,
   "metadata": {},
   "outputs": [
    {
     "name": "stderr",
     "output_type": "stream",
     "text": [
      "100%|████████████████████| 10000/10000 [00:01<00:00, 8845.21it/s]"
     ]
    },
    {
     "name": "stdout",
     "output_type": "stream",
     "text": [
      "defaultdict(<class 'float'>, {(20, 4, False): 0.6408450704225351, (15, 6, False): -0.5267857142857142, (15, 6, True): 0.19999999999999996, (20, 1, False): -0.08053691275167786, (16, 10, False): -0.7022222222222222, (14, 10, False): -0.6434540389972148, (21, 10, False): 0.8924050632911387, (17, 10, False): -0.7004716981132075, (16, 6, False): -0.5051546391752576, (16, 8, False): -0.5922330097087378, (13, 8, False): -0.5625000000000004, (20, 6, False): 0.6976744186046513, (19, 6, False): -0.7247706422018347, (14, 6, False): -0.5714285714285714, (17, 1, False): -0.8333333333333333, (18, 10, False): -0.7391304347826088, (12, 10, False): -0.6225, (12, 8, False): -0.5566037735849059, (17, 4, False): -0.7043478260869566, (12, 4, False): -0.7209302325581396, (20, 8, False): 0.8263473053892216, (15, 8, True): -0.5, (14, 2, False): -0.616161616161616, (15, 2, True): 0.06666666666666668, (13, 10, False): -0.6329113924050633, (18, 6, False): -0.7622950819672132, (19, 9, False): -0.7719298245614035, (12, 9, False): -0.5119047619047621, (21, 9, False): 0.9411764705882355, (13, 9, False): -0.6538461538461536, (16, 5, False): -0.6847826086956522, (15, 2, False): -0.6987951807228917, (14, 4, False): -0.6090909090909089, (14, 9, False): -0.5588235294117647, (20, 10, False): 0.4084033613445377, (21, 6, True): 0.9433962264150944, (18, 7, False): -0.7717391304347823, (16, 2, False): -0.6224489795918368, (12, 5, False): -0.5416666666666667, (14, 5, False): -0.5822784810126584, (20, 9, False): 0.7123287671232876, (13, 2, False): -0.6235294117647061, (17, 2, False): -0.702970297029703, (12, 2, False): -0.5862068965517243, (21, 10, True): 0.8844221105527638, (17, 10, True): -0.3584905660377358, (16, 9, False): -0.5102040816326532, (19, 10, False): -0.7653508771929822, (15, 9, False): -0.5500000000000002, (18, 8, False): -0.6982758620689656, (19, 4, True): -0.19999999999999998, (14, 4, True): -0.23076923076923075, (17, 9, False): -0.7641509433962261, (19, 9, True): -0.4444444444444445, (18, 9, True): -0.6923076923076924, (13, 9, True): 0.1111111111111111, (17, 4, True): -1.3877787807814457e-17, (19, 2, False): -0.8148148148148149, (18, 3, False): -0.6952380952380949, (20, 10, True): 0.3461538461538462, (21, 2, True): 0.8444444444444443, (16, 4, False): -0.7450980392156863, (21, 6, False): 0.8987341772151897, (17, 6, False): -0.5840707964601768, (13, 6, False): -0.576470588235294, (20, 3, False): 0.6086956521739129, (19, 3, False): -0.8181818181818181, (19, 3, True): -0.6666666666666667, (21, 8, True): 0.957446808510638, (18, 2, False): -0.8288288288288287, (15, 4, False): -0.6847826086956521, (19, 5, False): -0.6749999999999998, (21, 4, True): 0.9183673469387755, (15, 10, False): -0.6804123711340203, (18, 4, False): -0.7227722772277225, (15, 8, False): -0.5588235294117645, (21, 7, False): 0.9375, (13, 7, False): -0.5312500000000004, (14, 8, False): -0.4521739130434782, (19, 8, True): 0.09090909090909087, (12, 6, False): -0.4999999999999999, (20, 1, True): -0.3125, (21, 3, False): 0.863013698630137, (12, 3, False): -0.5227272727272727, (12, 7, False): -0.5247524752475246, (16, 7, False): -0.6796116504854366, (14, 3, False): -0.48750000000000004, (14, 3, True): -0.26666666666666666, (13, 3, False): -0.6599999999999997, (14, 7, False): -0.6739130434782609, (17, 8, True): -0.2142857142857143, (20, 5, False): 0.7112676056338026, (21, 4, False): 0.9142857142857139, (19, 7, False): -0.6230769230769232, (16, 3, True): -0.6470588235294118, (18, 5, False): -0.7333333333333333, (21, 3, True): 0.7804878048780486, (21, 1, False): 0.6949152542372882, (14, 1, False): -0.7441860465116276, (19, 8, False): -0.7499999999999999, (16, 1, False): -0.701149425287356, (14, 10, True): -0.39583333333333315, (21, 1, True): 0.6888888888888889, (17, 7, False): -0.6666666666666666, (13, 1, False): -0.7549019607843137, (15, 5, False): -0.5360824742268041, (19, 4, False): -0.764705882352941, (16, 7, True): -0.2857142857142857, (12, 10, True): -0.7, (20, 8, True): 0.6818181818181818, (16, 8, True): -0.11111111111111108, (21, 9, True): 0.9375, (14, 6, True): 0.05555555555555558, (18, 4, True): -0.4375, (20, 3, True): 0.9047619047619048, (21, 8, False): 0.9375, (15, 7, False): -0.6415094339622642, (19, 10, True): -0.44285714285714284, (18, 1, True): -0.8, (15, 3, False): -0.6728971962616819, (19, 6, True): -0.15789473684210525, (18, 10, True): -0.4794520547945207, (15, 10, True): -0.39285714285714285, (21, 2, False): 0.9014084507042253, (20, 7, True): 0.8695652173913042, (14, 8, True): -0.5833333333333333, (20, 4, True): 0.7894736842105262, (13, 4, True): -0.3333333333333333, (17, 8, False): -0.6842105263157892, (20, 2, False): 0.5761589403973508, (16, 9, True): 5.551115123125783e-17, (17, 3, False): -0.7500000000000002, (19, 7, True): -0.5555555555555555, (17, 7, True): -0.38461538461538464, (13, 4, False): -0.5930232558139533, (19, 1, False): -0.8137254901960785, (14, 7, True): -0.46153846153846156, (17, 5, False): -0.692307692307692, (15, 1, False): -0.7499999999999999, (18, 1, False): -0.825242718446602, (16, 3, False): -0.6202531645569617, (12, 1, False): -0.7228915662650602, (18, 3, True): -0.09999999999999998, (17, 9, True): -0.2857142857142857, (15, 9, True): -0.36363636363636365, (17, 5, True): -0.4444444444444444, (13, 8, True): -0.11111111111111113, (12, 6, True): -2.7755575615628914e-17, (16, 5, True): -0.6842105263157895, (16, 10, True): -0.5245901639344261, (15, 1, True): -0.6666666666666666, (16, 2, True): -0.3, (14, 2, True): -0.21428571428571433, (21, 5, True): 0.9500000000000001, (19, 5, True): -0.17647058823529416, (13, 10, True): -0.4901960784313726, (21, 7, True): 0.9142857142857144, (18, 7, True): -0.16666666666666669, (18, 9, False): -0.6249999999999994, (20, 7, False): 0.7410071942446039, (12, 7, True): 1.0, (19, 2, True): -0.4666666666666666, (20, 6, True): 0.6666666666666667, (14, 1, True): -0.875, (13, 1, True): -0.16666666666666669, (15, 3, True): -0.3333333333333333, (19, 1, True): -1.0, (18, 6, True): -0.49999999999999994, (21, 5, False): 0.8933333333333333, (14, 5, True): -0.8333333333333334, (20, 2, True): 0.8333333333333333, (16, 6, True): -0.11111111111111109, (18, 2, True): -0.2857142857142857, (20, 5, True): 0.7083333333333333, (12, 8, True): 0.4, (16, 4, True): -0.25, (13, 5, False): -0.54320987654321, (15, 4, True): -0.2, (17, 3, True): -0.5333333333333332, (13, 7, True): -0.6666666666666667, (12, 9, True): -0.33333333333333337, (13, 6, True): -0.38461538461538464, (17, 2, True): -0.25, (18, 8, True): -0.2222222222222222, (20, 9, True): 0.6, (13, 3, True): 0.14285714285714288, (17, 6, True): -0.8571428571428572, (16, 1, True): -0.5, (13, 2, True): -0.2222222222222222, (14, 9, True): -0.5, (17, 1, True): -0.6666666666666666, (13, 5, True): -0.5, (12, 3, True): 0.5, (12, 1, True): -0.6666666666666667, (12, 2, True): -0.2, (15, 7, True): -1.0, (12, 4, True): -0.5, (18, 5, True): -0.36363636363636365, (15, 5, True): -0.375, (12, 5, True): -0.2})\n"
     ]
    },
    {
     "name": "stderr",
     "output_type": "stream",
     "text": [
      "\n"
     ]
    }
   ],
   "source": [
    "V_10k = mc_prediction(env, SimpleBlackjackPolicy(), num_episodes=10000)\n",
    "print(V_10k)"
   ]
  },
  {
   "cell_type": "markdown",
   "metadata": {
    "nbgrader": {
     "grade": false,
     "grade_id": "cell-9d32f907f180c088",
     "locked": true,
     "schema_version": 1,
     "solution": false
    }
   },
   "source": [
    "Now make *4 plots* like Figure 5.1 in the book. You can either make 3D plots or heatmaps. Make sure that your results look similar to the results in the book. Give your plots appropriate titles, axis labels, etc."
   ]
  },
  {
   "cell_type": "code",
   "execution_count": 15,
   "metadata": {
    "nbgrader": {
     "grade": false,
     "grade_id": "cell-cbaf4d6a0e4c00fa",
     "locked": true,
     "schema_version": 1,
     "solution": false
    }
   },
   "outputs": [
    {
     "name": "stderr",
     "output_type": "stream",
     "text": [
      "100%|████████████████████| 10000/10000 [00:01<00:00, 8641.84it/s]\n",
      "100%|██████████████████| 500000/500000 [00:56<00:00, 8834.99it/s]"
     ]
    },
    {
     "name": "stdout",
     "output_type": "stream",
     "text": [
      "CPU times: user 54.6 s, sys: 2.28 s, total: 56.9 s\n",
      "Wall time: 57.8 s\n"
     ]
    },
    {
     "name": "stderr",
     "output_type": "stream",
     "text": [
      "\n"
     ]
    }
   ],
   "source": [
    "%%time\n",
    "# Let's run your code one time\n",
    "V_10k = mc_prediction(env, SimpleBlackjackPolicy(), num_episodes=10000)\n",
    "V_500k = mc_prediction(env, SimpleBlackjackPolicy(), num_episodes=500000)"
   ]
  },
  {
   "cell_type": "code",
   "execution_count": 16,
   "metadata": {
    "nbgrader": {
     "grade": true,
     "grade_id": "cell-ba046443478aa517",
     "locked": false,
     "points": 2,
     "schema_version": 1,
     "solution": true
    }
   },
   "outputs": [
    {
     "name": "stderr",
     "output_type": "stream",
     "text": [
      "/Users/thesofakillers/miniconda3/envs/rl/lib/python3.7/site-packages/ipykernel_launcher.py:59: UserWarning: This figure includes Axes that are not compatible with tight_layout, so results might be incorrect.\n",
      "/Users/thesofakillers/miniconda3/envs/rl/lib/python3.7/site-packages/ipykernel_launcher.py:59: UserWarning: This figure includes Axes that are not compatible with tight_layout, so results might be incorrect.\n",
      "/Users/thesofakillers/miniconda3/envs/rl/lib/python3.7/site-packages/IPython/core/pylabtools.py:151: UserWarning: This figure includes Axes that are not compatible with tight_layout, so results might be incorrect.\n",
      "  fig.canvas.print_figure(bytes_io, **kw)\n"
     ]
    },
    {
     "data": {
      "image/png": "[encoded data removed]",
      "text/plain": [
       "<Figure size 800x800 with 5 Axes>"
      ]
     },
     "metadata": {},
     "output_type": "display_data"
    }
   ],
   "source": [
    "# YOUR CODE HERE\n",
    "# helper func -----------------\n",
    "def prepare_data(value_dict):\n",
    "    # player_sum X dealer_showing\n",
    "    usable_grid = np.zeros((10, 10), dtype=float)\n",
    "    not_usable_grid = usable_grid.copy()\n",
    "\n",
    "    for s, v in value_dict.items():\n",
    "        p_sum, dealer_card, ace_usable = s\n",
    "        if ace_usable:\n",
    "            usable_grid[p_sum - 12][dealer_card - 1] = value_dict[s]\n",
    "        else:\n",
    "            not_usable_grid[p_sum - 12][dealer_card - 1] = value_dict[s]\n",
    "\n",
    "    return usable_grid, not_usable_grid\n",
    "\n",
    "\n",
    "# made a func i can re-use at the end of the notebook\n",
    "def plot_value_func(v_10k, v_500k, savepath=None):\n",
    "    # getting data ----------------\n",
    "    usable_grid_10, not_usable_grid_10 = prepare_data(v_10k)\n",
    "    usable_grid_500, not_usable_grid_500 = prepare_data(v_500k)\n",
    "\n",
    "    # plotting --------------------\n",
    "    f, ((ax1, ax2), (ax3, ax4)) = plt.subplots(2, 2, figsize=(8, 8))\n",
    "\n",
    "    im = ax1.imshow(usable_grid_10, origin=\"lower\", vmin=-1, vmax=1, cmap=\"RdBu\")\n",
    "    ax1.set_ylabel(\"Usable ace\")\n",
    "    ax1.set_title(\"After 10,000 episodes\")\n",
    "    ax1.set_yticks([])\n",
    "    ax1.set_xticks([])\n",
    "\n",
    "    ax2.imshow(usable_grid_500, origin=\"lower\", vmin=-1, vmax=1, cmap=\"RdBu\")\n",
    "    ax2.set_title(\"After 500,000 episodes\")\n",
    "    ax2.set_yticks([])\n",
    "    ax2.set_xticks([])\n",
    "\n",
    "    ax3.imshow(not_usable_grid_10, origin=\"lower\", vmin=-1, vmax=1, cmap=\"RdBu\")\n",
    "    ax3.set_ylabel(\"No usable ace\")\n",
    "    ax3.set_yticks([])\n",
    "    ax3.set_xticks([])\n",
    "\n",
    "    ax4.imshow(not_usable_grid_500, origin=\"lower\", vmin=-1, vmax=1, cmap=\"RdBu\")\n",
    "    ax4.set_xlabel(\"Dealer Showing\")\n",
    "    ax4.set_xticks(range(10))\n",
    "    ax4.set_xticklabels([\"A\"] + [str(i) for i in range(2, 11)])\n",
    "    ax4.set_ylabel(\"Player sum\")\n",
    "    ax4.set_yticks(range(10))\n",
    "    ax4.set_yticklabels(range(12, 22))\n",
    "    ax4.yaxis.set_label_position(\"right\")\n",
    "    ax4.yaxis.tick_right()\n",
    "\n",
    "    f.set_tight_layout(True)\n",
    "\n",
    "    cbar_ax = f.add_axes([1.01, 0.075, 0.03, 0.8775])\n",
    "    f.colorbar(im, cax=cbar_ax, ticks=[-1, 0, 1])\n",
    "\n",
    "    if savepath is not None:\n",
    "        plt.savefig(savepath, dpi=300, bbox_inches=\"tight\")\n",
    "    plt.show()\n",
    "\n",
    "\n",
    "plot_value_func(V_10k, V_500k, savepath=\"../images/fig_5.1.pdf\")"
   ]
  },
  {
   "cell_type": "markdown",
   "metadata": {},
   "source": [
    "## 2. Off-policy Monte Carlo prediction\n",
    "In real world, it is often beneficial to learn from the experience of others in addition to your own. For example, you can probably infer that running off the cliff with a car is a bad idea if you consider what \"return\" people who have tried it received.\n",
    "\n",
    "Similarly, we can benefit from the experience of other agents in reinforcement learning. In this exercise we will use off-policy monte carlo to estimate the value function of our target policy using the experience from a different behavior policy. Our target policy will be the simple policy defined above (stick if we have *20* or *21* points) and we will use a random policy that randomly chooses to stick or hit (both with 50% probability) as a behavior policy. As a first step, implement a random BlackJack policy."
   ]
  },
  {
   "cell_type": "code",
   "execution_count": 17,
   "metadata": {},
   "outputs": [
    {
     "name": "stdout",
     "output_type": "stream",
     "text": [
      "Appending to mc_autograde.py\n"
     ]
    }
   ],
   "source": [
    "%%execwritefile -a mc_autograde.py\n",
    "\n",
    "\n",
    "class RandomBlackjackPolicy(object):\n",
    "    \"\"\"\n",
    "    A random BlackJack policy.\n",
    "    \"\"\"\n",
    "\n",
    "    def get_probs(self, states, actions):\n",
    "        \"\"\"\n",
    "        This method takes a list of states and a list of actions and returns a numpy array that contains\n",
    "        a probability of perfoming action in given state for every corresponding state action pair.\n",
    "\n",
    "        Args:\n",
    "            states: a list of states.\n",
    "            actions: a list of actions.\n",
    "\n",
    "        Returns:\n",
    "            Numpy array filled with probabilities (same length as states and actions)\n",
    "        \"\"\"\n",
    "        # YOUR CODE HERE\n",
    "        probs = np.full(len(states), 0.5, dtype=float)\n",
    "        return probs\n",
    "\n",
    "    def sample_action(self, state):\n",
    "        \"\"\"\n",
    "        This method takes a state as input and returns an action sampled from this policy.\n",
    "\n",
    "        Args:\n",
    "            state: current state\n",
    "\n",
    "        Returns:\n",
    "            An action (int).\n",
    "        \"\"\"\n",
    "        # YOUR CODE HERE\n",
    "        action = np.random.randint(low=0, high=2)  # high is exclusive\n",
    "        return action"
   ]
  },
  {
   "cell_type": "code",
   "execution_count": 18,
   "metadata": {},
   "outputs": [
    {
     "name": "stdout",
     "output_type": "stream",
     "text": [
      "State: (14, 10, False)\n",
      "Sampled Action: 0\n",
      "Probabilities [stick, hit]: [0.5 0.5]\n"
     ]
    }
   ],
   "source": [
    "# Let's check if it makes sense\n",
    "env = BlackjackEnv()\n",
    "s = env.reset()\n",
    "policy = RandomBlackjackPolicy()\n",
    "print(\n",
    "    \"State: {}\\nSampled Action: {}\\nProbabilities [stick, hit]: {}\".format(\n",
    "        s, policy.sample_action(s), policy.get_probs([s, s], [0, 1])\n",
    "    )\n",
    ")"
   ]
  },
  {
   "cell_type": "markdown",
   "metadata": {},
   "source": [
    "Now implement the MC prediction algorithm with ordinary importance sampling. Use the sampling function from above to sample data from a single episode.\n",
    "\n",
    "Hint: Get probs functions may be handy. You can use `for i in tqdm(range(num_episodes))` to show a progress bar."
   ]
  },
  {
   "cell_type": "code",
   "execution_count": 19,
   "metadata": {},
   "outputs": [
    {
     "name": "stdout",
     "output_type": "stream",
     "text": [
      "Appending to mc_autograde.py\n"
     ]
    }
   ],
   "source": [
    "%%execwritefile -a mc_autograde.py\n",
    "\n",
    "\n",
    "def mc_importance_sampling(\n",
    "    env,\n",
    "    behavior_policy,\n",
    "    target_policy,\n",
    "    num_episodes,\n",
    "    discount_factor=1.0,\n",
    "    sampling_function=sample_episode,\n",
    "):\n",
    "    \"\"\"\n",
    "    Monte Carlo prediction algorithm. Calculates the value function\n",
    "    for a given target policy using behavior policy and ordinary importance sampling.\n",
    "\n",
    "    Args:\n",
    "        env: OpenAI gym environment.\n",
    "        behavior_policy: A policy used to collect the data.\n",
    "        target_policy: A policy which value function we want to estimate.\n",
    "        num_episodes: Number of episodes to sample.\n",
    "        discount_factor: Gamma discount factor.\n",
    "        sampling_function: Function that generates data from one episode.\n",
    "\n",
    "    Returns:\n",
    "        A dictionary that maps from state -> value.\n",
    "        The state is a tuple and the value is a float.\n",
    "    \"\"\"\n",
    "\n",
    "    # Keeps track of current V and count of returns for each state\n",
    "    # to calculate an update.\n",
    "    V = defaultdict(float)\n",
    "    returns_count = defaultdict(float)\n",
    "\n",
    "    # YOUR CODE HERE\n",
    "    for i in tqdm(range(num_episodes)):\n",
    "        states, actions, rewards, _dones = sampling_function(env, behavior_policy)\n",
    "        G = 0.0\n",
    "        W = 1.0\n",
    "        pi_probs = target_policy.get_probs(states[::-1], actions[::-1])\n",
    "        b_probs = behavior_policy.get_probs(states[::-1], actions[::-1])\n",
    "        for i, (s, a, r) in enumerate(zip(states[::-1], actions[::-1], rewards[::-1])):\n",
    "            G = discount_factor * G + r\n",
    "            W = W * (pi_probs[i] / b_probs[i])\n",
    "            returns_count[s] += 1\n",
    "            V[s] = V[s] + (W * G - V[s]) / returns_count[s]\n",
    "    return V"
   ]
  },
  {
   "cell_type": "code",
   "execution_count": 20,
   "metadata": {},
   "outputs": [
    {
     "name": "stderr",
     "output_type": "stream",
     "text": [
      "100%|████████████████████| 10000/10000 [00:01<00:00, 7935.15it/s]"
     ]
    },
    {
     "name": "stdout",
     "output_type": "stream",
     "text": [
      "defaultdict(<class 'float'>, {(13, 10, False): -0.6253521126760561, (16, 7, False): -0.5679012345679013, (13, 6, True): 0.0, (16, 4, False): -0.6133333333333334, (13, 9, False): -0.5333333333333334, (21, 2, False): 0.9777777777777777, (21, 2, True): 0.8518518518518515, (19, 10, False): -0.7293447293447294, (21, 10, False): 0.9340101522842638, (20, 4, True): 0.10526315789473682, (19, 4, True): 3.96508223080413e-17, (21, 10, True): 0.8023952095808383, (19, 1, False): -0.8775510204081634, (12, 1, False): -0.6526315789473685, (16, 6, False): -0.2784810126582278, (17, 1, False): -0.7878787878787881, (18, 10, False): -0.6848484848484852, (17, 10, False): -0.8695652173913049, (17, 10, True): -0.26086956521739135, (12, 10, False): -0.4709302325581395, (21, 1, True): 1.0, (14, 4, False): -0.37142857142857155, (18, 6, False): -0.7173913043478262, (17, 6, False): -0.6741573033707867, (15, 6, False): -0.3846153846153846, (18, 7, False): -0.4705882352941175, (18, 1, False): -0.8641975308641978, (21, 7, False): 1.1199999999999999, (12, 4, False): -0.7551020408163261, (18, 2, False): -0.5977011494252873, (15, 2, False): -0.6666666666666663, (14, 10, False): -0.6446280991735535, (20, 9, False): 0.9593495934959352, (21, 9, True): 1.1063829787234043, (16, 9, False): -0.8089887640449436, (14, 9, False): -0.4418604651162792, (15, 9, False): -0.7526881720430105, (14, 8, False): -0.49999999999999994, (21, 9, False): 0.9743589743589743, (15, 10, False): -0.4999999999999997, (13, 4, False): -0.7252747252747251, (16, 10, False): -0.6436781609195407, (18, 8, False): -0.3243243243243244, (16, 8, False): -0.3456790123456791, (20, 5, False): 0.7500000000000001, (16, 1, False): -0.6476190476190478, (14, 1, False): -0.3364485981308411, (12, 2, False): -0.24096385542168683, (17, 9, False): -0.6388888888888893, (21, 6, False): 0.9999999999999999, (15, 3, False): -0.5813953488372094, (21, 3, True): 1.0731707317073171, (18, 4, True): -0.5, (18, 3, False): -0.8172043010752689, (16, 3, False): -0.4, (17, 3, True): -0.44444444444444453, (16, 3, True): -0.8888888888888891, (20, 2, False): 0.7741935483870969, (14, 5, False): -0.5979381443298968, (18, 5, True): -0.75, (15, 7, False): -0.5714285714285716, (18, 9, False): -0.7301587301587301, (20, 10, False): 0.43199999999999966, (15, 8, False): -0.8431372549019608, (18, 8, True): -0.3076923076923077, (15, 1, False): -0.7741935483870969, (20, 6, False): 0.6166666666666664, (20, 8, False): 0.7833333333333333, (13, 8, False): -0.43298969072164956, (20, 1, False): 0.19130434782608705, (16, 7, True): -0.22222222222222215, (15, 7, True): -4.697097411875662e-17, (12, 5, False): -0.7894736842105263, (13, 6, False): -0.528735632183908, (16, 5, False): -0.7816091954022987, (19, 9, False): -0.6086956521739135, (19, 4, False): -0.6470588235294119, (13, 10, True): -0.21052631578947356, (12, 10, True): -1.9999999999999998, (20, 3, False): 0.583333333333333, (13, 5, False): -0.5617977528089887, (19, 3, False): -0.5161290322580645, (20, 2, True): 0.13333333333333333, (19, 7, True): -1.6000000000000003, (15, 5, False): -0.4383561643835616, (19, 8, False): -0.6575342465753425, (21, 4, True): 0.8108108108108106, (19, 5, False): -0.620689655172414, (21, 5, True): 0.5806451612903227, (17, 3, False): -0.7865168539325843, (12, 3, False): -0.5360824742268042, (14, 6, False): -0.6292134831460673, (17, 2, False): -0.80952380952381, (17, 9, True): -0.19999999999999998, (17, 2, True): -0.9411764705882353, (17, 8, False): -0.6046511627906976, (18, 6, True): 3.8163916471489756e-17, (14, 7, False): -0.795698924731183, (12, 6, False): -0.4375, (14, 2, False): -0.7311827956989247, (13, 7, False): -0.6153846153846156, (21, 7, True): 1.1428571428571428, (18, 4, False): -0.8641975308641976, (16, 2, False): -0.6046511627906976, (17, 7, False): -0.8311688311688316, (15, 5, True): -0.39999999999999997, (20, 4, False): 0.5254237288135595, (13, 7, True): -1.0, (19, 3, True): 0.0, (12, 3, True): 0.8, (13, 1, False): -0.701030927835052, (21, 3, False): 0.608695652173913, (15, 2, True): -0.6153846153846153, (18, 5, False): -0.9589041095890414, (19, 10, True): -0.3571428571428571, (16, 10, True): -0.3921568627450981, (21, 5, False): 0.7555555555555555, (20, 6, True): 1.3333333333333335, (12, 9, False): -0.4943820224719101, (21, 4, False): 0.7391304347826089, (13, 3, False): -0.7777777777777778, (12, 9, True): -1.6, (19, 5, True): -0.5, (20, 7, False): 0.5420560747663553, (18, 10, True): -0.07272727272727254, (19, 7, False): -0.6818181818181818, (12, 7, False): -0.54320987654321, (19, 6, True): -5.551115123125783e-17, (15, 6, True): 0.3636363636363637, (20, 9, True): 0.9230769230769231, (13, 9, True): 0.0, (17, 5, False): -0.44827586206896547, (20, 10, True): 0.5555555555555556, (17, 8, True): 0.33333333333333326, (21, 6, True): 1.0909090909090908, (14, 3, False): -0.4318181818181817, (15, 8, True): 0.0, (15, 4, False): -0.5833333333333333, (21, 8, False): 0.9999999999999997, (15, 10, True): 0.372093023255814, (19, 6, False): -0.8437499999999999, (13, 2, False): -0.6388888888888891, (19, 2, False): -0.4871794871794873, (17, 5, True): 0.23529411764705882, (16, 8, True): 0.0, (12, 6, True): -1.0, (17, 1, True): -0.5333333333333333, (19, 9, True): -0.8, (12, 8, False): -0.37362637362637374, (14, 6, True): 0.39999999999999997, (13, 4, True): 0.0, (17, 4, False): -0.9047619047619049, (16, 1, True): -0.923076923076923, (14, 10, True): -3.7007434154171876e-17, (16, 2, True): -0.25000000000000006, (18, 3, True): -0.5000000000000001, (21, 8, True): 0.8695652173913043, (21, 1, False): 0.8214285714285715, (12, 1, True): 0.0, (16, 9, True): -2.25, (20, 7, True): 0.8235294117647058, (20, 3, True): 0.7999999999999999, (20, 8, True): 0.8235294117647057, (18, 7, True): -0.6666666666666669, (14, 4, True): 0.0, (14, 7, True): -5.921189464667501e-17, (14, 9, True): -0.8, (15, 3, True): 0.0, (18, 9, True): -0.5000000000000001, (15, 1, True): -1.0909090909090908, (13, 8, True): 0.0, (15, 4, True): 0.8888888888888891, (17, 4, True): -1.7777777777777777, (16, 6, True): 0.0, (14, 8, True): 0.0, (18, 2, True): -0.33333333333333337, (20, 1, True): -0.2, (19, 8, True): -1.8461538461538465, (13, 5, True): 0.4444444444444444, (12, 8, True): 0.0, (13, 3, True): -0.3636363636363637, (12, 7, True): 0.0, (20, 5, True): 1.0, (13, 1, True): -0.5000000000000001, (16, 4, True): -0.25000000000000006, (13, 2, True): 0.33333333333333326, (17, 6, True): -5.15460690004537e-17, (14, 5, True): 0.6153846153846154, (19, 1, True): -0.7058823529411765, (16, 5, True): 0.4000000000000001, (19, 2, True): -0.44444444444444453, (18, 1, True): -0.7272727272727273, (14, 2, True): -2.0, (14, 3, True): 0.0, (15, 9, True): -0.5714285714285715, (17, 7, True): -0.24999999999999994, (12, 2, True): 0.0, (14, 1, True): 0.0, (12, 5, True): -2.666666666666667, (12, 4, True): -16.0})\n"
     ]
    },
    {
     "name": "stderr",
     "output_type": "stream",
     "text": [
      "\n"
     ]
    }
   ],
   "source": [
    "V_10k = mc_importance_sampling(\n",
    "    env, RandomBlackjackPolicy(), SimpleBlackjackPolicy(), num_episodes=10000\n",
    ")\n",
    "print(V_10k)"
   ]
  },
  {
   "cell_type": "code",
   "execution_count": 21,
   "metadata": {},
   "outputs": [
    {
     "name": "stderr",
     "output_type": "stream",
     "text": [
      "100%|████████████████████| 10000/10000 [00:01<00:00, 7040.54it/s]\n",
      "100%|██████████████████| 500000/500000 [01:04<00:00, 7727.63it/s]"
     ]
    },
    {
     "name": "stdout",
     "output_type": "stream",
     "text": [
      "CPU times: user 1min 3s, sys: 2.46 s, total: 1min 5s\n",
      "Wall time: 1min 6s\n"
     ]
    },
    {
     "name": "stderr",
     "output_type": "stream",
     "text": [
      "\n"
     ]
    }
   ],
   "source": [
    "%%time\n",
    "# Let's run your code one time\n",
    "V_10k = mc_importance_sampling(\n",
    "    env, RandomBlackjackPolicy(), SimpleBlackjackPolicy(), num_episodes=10000\n",
    ")\n",
    "V_500k = mc_importance_sampling(\n",
    "    env, RandomBlackjackPolicy(), SimpleBlackjackPolicy(), num_episodes=500000\n",
    ")"
   ]
  },
  {
   "cell_type": "markdown",
   "metadata": {},
   "source": [
    "Plot the V function. Do the plots look like what you expected?"
   ]
  },
  {
   "cell_type": "code",
   "execution_count": 22,
   "metadata": {},
   "outputs": [
    {
     "name": "stderr",
     "output_type": "stream",
     "text": [
      "/Users/thesofakillers/miniconda3/envs/rl/lib/python3.7/site-packages/ipykernel_launcher.py:59: UserWarning: This figure includes Axes that are not compatible with tight_layout, so results might be incorrect.\n",
      "/Users/thesofakillers/miniconda3/envs/rl/lib/python3.7/site-packages/ipykernel_launcher.py:59: UserWarning: This figure includes Axes that are not compatible with tight_layout, so results might be incorrect.\n",
      "/Users/thesofakillers/miniconda3/envs/rl/lib/python3.7/site-packages/IPython/core/pylabtools.py:151: UserWarning: This figure includes Axes that are not compatible with tight_layout, so results might be incorrect.\n",
      "  fig.canvas.print_figure(bytes_io, **kw)\n"
     ]
    },
    {
     "data": {
      "image/png": "[encoded data removed]",
      "text/plain": [
       "<Figure size 800x800 with 5 Axes>"
      ]
     },
     "metadata": {},
     "output_type": "display_data"
    }
   ],
   "source": [
    "# YOUR CODE HERE\n",
    "plot_value_func(V_10k, V_500k, \"../images/fig_5.1_off_policy.pdf\")"
   ]
  },
  {
   "cell_type": "markdown",
   "metadata": {},
   "source": [
    "If you want to test/submit your solution **restart the kernel, run all cells and submit the mc_autograde.py file into codegrade.**"
   ]
  }
 ],
 "metadata": {
  "celltoolbar": "Create Assignment",
  "kernelspec": {
   "display_name": "rl",
   "language": "python",
   "name": "rl"
  },
  "language_info": {
   "codemirror_mode": {
    "name": "ipython",
    "version": 3
   },
   "file_extension": ".py",
   "mimetype": "text/x-python",
   "name": "python",
   "nbconvert_exporter": "python",
   "pygments_lexer": "ipython3",
   "version": "3.7.13"
  }
 },
 "nbformat": 4,
 "nbformat_minor": 4
}
